{
 "cells": [
  {
   "cell_type": "markdown",
   "source": [
    "# Homework 3, Machine Learning\r\n",
    "## Joshua Schaaf"
   ],
   "metadata": {}
  },
  {
   "cell_type": "markdown",
   "source": [
    "### Imports"
   ],
   "metadata": {}
  },
  {
   "cell_type": "code",
   "execution_count": 83,
   "source": [
    "import pandas as pd\r\n",
    "import numpy as np\r\n",
    "import sympy as sp\r\n",
    "from sympy.solvers import solve\r\n",
    "from sympy.plotting import plot"
   ],
   "outputs": [],
   "metadata": {}
  },
  {
   "cell_type": "markdown",
   "source": [
    "### Code"
   ],
   "metadata": {}
  },
  {
   "cell_type": "markdown",
   "source": [
    "#### Problem 1"
   ],
   "metadata": {}
  },
  {
   "cell_type": "markdown",
   "source": [
    "#### a) Derive analytically x\\* that satisfies ∇f(x) = 0. Is there a unique solution for x\\*?"
   ],
   "metadata": {}
  },
  {
   "cell_type": "code",
   "execution_count": 2,
   "source": [
    "x1, x2 = sp.Symbol('x1'), sp.Symbol('x2') # making symbols x1 and x2\r\n",
    "f = 3*x1**2+2*x2**2+4*x1*x2-5*x1+6 # making the function\r\n",
    "f"
   ],
   "outputs": [
    {
     "output_type": "execute_result",
     "data": {
      "text/latex": [
       "$\\displaystyle 3 x_{1}^{2} + 4 x_{1} x_{2} - 5 x_{1} + 2 x_{2}^{2} + 6$"
      ],
      "text/plain": [
       "3*x1**2 + 4*x1*x2 - 5*x1 + 2*x2**2 + 6"
      ]
     },
     "metadata": {},
     "execution_count": 2
    }
   ],
   "metadata": {}
  },
  {
   "cell_type": "code",
   "execution_count": 3,
   "source": [
    "x1_diff, x2_diff = sp.diff(f, x1), sp.diff(f, x2) # getting the partial derivatives\r\n",
    "grad = sp.Matrix(((x1_diff), (x2_diff))) # making the gradient\r\n",
    "grad"
   ],
   "outputs": [
    {
     "output_type": "execute_result",
     "data": {
      "text/latex": [
       "$\\displaystyle \\left[\\begin{matrix}6 x_{1} + 4 x_{2} - 5\\\\4 x_{1} + 4 x_{2}\\end{matrix}\\right]$"
      ],
      "text/plain": [
       "Matrix([\n",
       "[6*x1 + 4*x2 - 5],\n",
       "[    4*x1 + 4*x2]])"
      ]
     },
     "metadata": {},
     "execution_count": 3
    }
   ],
   "metadata": {}
  },
  {
   "cell_type": "code",
   "execution_count": 4,
   "source": [
    "solution = sp.solve(grad) # solving the system of equations \r\n",
    "x1_soln, x2_soln = solution[x1], solution[x2] # getting x1 and x2 solutions\r\n",
    "x_star = sp.Matrix(((x1_soln), (x2_soln))) # making the solution 'pretty' (2.5 for x1, -2.5 for x2)\r\n",
    "x_star"
   ],
   "outputs": [
    {
     "output_type": "execute_result",
     "data": {
      "text/latex": [
       "$\\displaystyle \\left[\\begin{matrix}\\frac{5}{2}\\\\- \\frac{5}{2}\\end{matrix}\\right]$"
      ],
      "text/plain": [
       "Matrix([\n",
       "[ 5/2],\n",
       "[-5/2]])"
      ]
     },
     "metadata": {},
     "execution_count": 4
    }
   ],
   "metadata": {}
  },
  {
   "cell_type": "markdown",
   "source": [
    "#### ANSWER a) There is unique solution for x*, with x1 being 2.5, and x2 being -2.5 where ∇f(x) = 0"
   ],
   "metadata": {}
  },
  {
   "cell_type": "markdown",
   "source": [
    "#### b) Is x\\* minimum or maximum of f(x)? (Help: a symmetric matrix A is positive definite if all its principal minors have strictly positive determinants)\r\n",
    "It is in positive quadratic form, so when the gradient = 0, it is the minimum."
   ],
   "metadata": {}
  },
  {
   "cell_type": "markdown",
   "source": [
    "#### c) Derive gradient descent iteration formula for finding x*"
   ],
   "metadata": {}
  },
  {
   "cell_type": "code",
   "execution_count": 52,
   "source": [
    "alpha=0.1\r\n",
    "x_star = np.array([0, 0])\r\n",
    "for i in range(1000):\r\n",
    "    x_star = x_star-alpha*np.array([grad[0].subs({x1: x_star[0], x2:x_star[1]}), grad[1].subs({x1: x_star[0], x2:x_star[1]})])\r\n",
    "x_star"
   ],
   "outputs": [
    {
     "output_type": "execute_result",
     "data": {
      "text/plain": [
       "array([2.50000000000000, -2.50000000000000], dtype=object)"
      ]
     },
     "metadata": {},
     "execution_count": 52
    }
   ],
   "metadata": {}
  },
  {
   "cell_type": "markdown",
   "source": [
    "---\r\n",
    "Not done"
   ],
   "metadata": {}
  },
  {
   "cell_type": "markdown",
   "source": [
    "#### d) Implement the gradient descent procedure derived in 1c in Python."
   ],
   "metadata": {}
  },
  {
   "cell_type": "code",
   "execution_count": 62,
   "source": [
    "alphas = {0.0001, 0.001, 0.001, 0.01, 0.1, 1, 10}\r\n",
    "def gd_hw3(f, alpha, x_star=np.array([0,0]),iter = 1000):\r\n",
    "    x_star_evolution = []\r\n",
    "    x1_diff, x2_diff = sp.diff(f, x1), sp.diff(f, x2) # getting the partial derivatives\r\n",
    "    grad = sp.Matrix(((x1_diff), (x2_diff))) # making the gradient\r\n",
    "    x_star_evolution.append(list(x_star))\r\n",
    "    for _ in range(iter):\r\n",
    "        x_star = x_star-alpha*np.array([grad[0].subs({x1: x_star[0], x2:x_star[1]}), grad[1].subs({x1: x_star[0], x2:x_star[1]})])\r\n",
    "        x_star_evolution.append(list(x_star))\r\n",
    "    return x_star_evolution"
   ],
   "outputs": [],
   "metadata": {}
  },
  {
   "cell_type": "code",
   "execution_count": 63,
   "source": [
    "alpha_dict = {}\r\n",
    "for alpha in alphas:\r\n",
    "    alpha_dict[alpha] = gd_hw3(f, alpha)"
   ],
   "outputs": [],
   "metadata": {}
  },
  {
   "cell_type": "code",
   "execution_count": 77,
   "source": [
    "import matplotlib.pyplot as plt\r\n",
    "for key in alpha_dict.keys():\r\n",
    "    plt.ylim([-4, 4])\r\n",
    "    plt.plot(alpha_dict[key])\r\n",
    "plt.axhline(y=2.5, linestyle='dotted')\r\n",
    "plt.axhline(y=-2.5, linestyle='dotted')"
   ],
   "outputs": [
    {
     "output_type": "execute_result",
     "data": {
      "text/plain": [
       "<matplotlib.lines.Line2D at 0x25676557d00>"
      ]
     },
     "metadata": {},
     "execution_count": 77
    },
    {
     "output_type": "display_data",
     "data": {
      "image/png": "[encoded data removed]",
      "text/plain": [
       "<Figure size 432x288 with 1 Axes>"
      ]
     },
     "metadata": {
      "needs_background": "light"
     }
    }
   ],
   "metadata": {}
  },
  {
   "cell_type": "markdown",
   "source": [
    "Plot the evolution of x for all different choices of alpha in the same figure. Discuss the influence of alpha on the convergence. How close were the final solutions to the x\\* obtained in (1a)?"
   ],
   "metadata": {}
  },
  {
   "cell_type": "markdown",
   "source": [
    "---\r\n",
    "not done"
   ],
   "metadata": {}
  },
  {
   "cell_type": "markdown",
   "source": [
    "#### Problem 2"
   ],
   "metadata": {}
  },
  {
   "cell_type": "markdown",
   "source": [
    "You are given a function f(x) = sin(x) + 0.3x\r\n",
    "#### a. Plot function f(x) in the range x = [-10, 10]. How many points satisfy fʹ’(x) = 0?"
   ],
   "metadata": {}
  },
  {
   "cell_type": "code",
   "execution_count": 84,
   "source": [
    "x = sp.Symbol('x')\r\n",
    "f2 = sp.sin(x) + 0.3*x\r\n",
    "f2_diff = sp.diff(f2)\r\n",
    "plot(f2)"
   ],
   "outputs": [
    {
     "output_type": "display_data",
     "data": {
      "image/png": "[encoded data removed]",
      "text/plain": [
       "<Figure size 432x288 with 1 Axes>"
      ]
     },
     "metadata": {
      "needs_background": "light"
     }
    },
    {
     "output_type": "execute_result",
     "data": {
      "text/plain": [
       "<sympy.plotting.plot.Plot at 0x256767195e0>"
      ]
     },
     "metadata": {},
     "execution_count": 84
    }
   ],
   "metadata": {}
  },
  {
   "cell_type": "markdown",
   "source": [
    "#### ANSWER A) There are 6 points that satisfy f'(x) = 0 in the range x = [-10, 10]"
   ],
   "metadata": {}
  },
  {
   "cell_type": "markdown",
   "source": [
    "#### b. Derive gradient descent iteration formula for finding a (local) minimum of f(x)."
   ],
   "metadata": {}
  },
  {
   "cell_type": "code",
   "execution_count": 86,
   "source": [
    "alpha=0.1\r\n",
    "x_star = 0\r\n",
    "for i in range(1000):\r\n",
    "    x_star = x_star-alpha*f2_diff.subs({x:x_star})\r\n",
    "x_star"
   ],
   "outputs": [
    {
     "output_type": "execute_result",
     "data": {
      "text/latex": [
       "$\\displaystyle -1.87548898081029$"
      ],
      "text/plain": [
       "-1.87548898081029"
      ]
     },
     "metadata": {},
     "execution_count": 86
    }
   ],
   "metadata": {}
  },
  {
   "cell_type": "markdown",
   "source": [
    "#### c. Implement the gradient descent procedure derived in (2b) in Python. (Hint: You should write a Python function “xfinal= gd_hw3_2(x0, alpha, iter)”). Explore results of gradient descent procedure for different choices of x0 and alpha (keep the number of iterations to iter = 1000). Summarize your conclusions briefly (you could use one or two figures to illustrate the main points)."
   ],
   "metadata": {}
  },
  {
   "cell_type": "code",
   "execution_count": 128,
   "source": [
    "alphas = {0.0001, 0.001, 0.001, 0.01, 0.1, 1, 10}\r\n",
    "x0 = list(range(-20, 21))\r\n",
    "def gd_hw3_2(f, alpha, x_star, iter = 1000):\r\n",
    "    x_star = float(x_star)\r\n",
    "    x_star_evolution = []\r\n",
    "    f_diff = sp.diff(f)\r\n",
    "    x_star_evolution.append(x_star)\r\n",
    "    for _ in range(iter):\r\n",
    "        x_star = x_star - alpha*f_diff.subs(x, x_star)\r\n",
    "        x_star_evolution.append(x_star)\r\n",
    "    return x_star_evolution"
   ],
   "outputs": [],
   "metadata": {}
  },
  {
   "cell_type": "code",
   "execution_count": 121,
   "source": [
    "alpha_dict_2 = {}\r\n",
    "for alpha in alphas:\r\n",
    "    alpha_dict_2[alpha] = gd_hw3_2(f2, alpha, 0)"
   ],
   "outputs": [],
   "metadata": {}
  },
  {
   "cell_type": "code",
   "execution_count": 129,
   "source": [
    "x_star_dict = {}\r\n",
    "for x_star in x0:\r\n",
    "    x_star_dict[x_star] = gd_hw3_2(f2, 0.01, x_star)"
   ],
   "outputs": [],
   "metadata": {}
  },
  {
   "cell_type": "code",
   "execution_count": 133,
   "source": [
    "import matplotlib.pyplot as plt\r\n",
    "for key in x_star_dict.keys():\r\n",
    "    plt.ylim([-10, 10])\r\n",
    "    plt.xlim([0, 1000])\r\n",
    "    plt.plot(x_star_dict[key])"
   ],
   "outputs": [
    {
     "output_type": "display_data",
     "data": {
      "image/png": "[encoded data removed]",
      "text/plain": [
       "<Figure size 432x288 with 1 Axes>"
      ]
     },
     "metadata": {
      "needs_background": "light"
     }
    }
   ],
   "metadata": {}
  },
  {
   "cell_type": "code",
   "execution_count": 123,
   "source": [
    "import matplotlib.pyplot as plt\r\n",
    "for key in alpha_dict_2.keys():\r\n",
    "    plt.ylim([-4, 4])\r\n",
    "    plt.plot(alpha_dict_2[key])"
   ],
   "outputs": [
    {
     "output_type": "display_data",
     "data": {
      "image/png": "[encoded data removed]",
      "text/plain": [
       "<Figure size 432x288 with 1 Axes>"
      ]
     },
     "metadata": {
      "needs_background": "light"
     }
    }
   ],
   "metadata": {}
  }
 ],
 "metadata": {
  "orig_nbformat": 4,
  "language_info": {
   "name": "python",
   "version": "3.8.5",
   "mimetype": "text/x-python",
   "codemirror_mode": {
    "name": "ipython",
    "version": 3
   },
   "pygments_lexer": "ipython3",
   "nbconvert_exporter": "python",
   "file_extension": ".py"
  },
  "kernelspec": {
   "name": "python3",
   "display_name": "Python 3.8.5 64-bit ('base': conda)"
  },
  "interpreter": {
   "hash": "ff01ba64261f8397de0ac8a48cd5dfe75e6486a52ad79bcd26ac16ede9d241b1"
  }
 },
 "nbformat": 4,
 "nbformat_minor": 2
}